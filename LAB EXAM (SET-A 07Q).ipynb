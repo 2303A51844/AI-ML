{
  "nbformat": 4,
  "nbformat_minor": 0,
  "metadata": {
    "colab": {
      "provenance": [],
      "authorship_tag": "ABX9TyN2blWDWwRZx2gGm7rYdamM",
      "include_colab_link": true
    },
    "kernelspec": {
      "name": "python3",
      "display_name": "Python 3"
    },
    "language_info": {
      "name": "python"
    }
  },
  "cells": [
    {
      "cell_type": "markdown",
      "metadata": {
        "id": "view-in-github",
        "colab_type": "text"
      },
      "source": [
        "<a href=\"https://colab.research.google.com/github/2303A51844/AI-ML/blob/main/LAB%20EXAM%20(SET-A%2007Q).ipynb\" target=\"_parent\"><img src=\"https://colab.research.google.com/assets/colab-badge.svg\" alt=\"Open In Colab\"/></a>"
      ]
    },
    {
      "cell_type": "markdown",
      "source": [
        "**Prediction of Room Occupancy Estimation**\n",
        "\n",
        "Q1.Identify the max and min sound, light values liked by most customers?\n",
        "\n",
        "Q2. Identify the date and time when room occupancy was the most?\n",
        "\n",
        "Q3. Predict the temperature most suitable for most room occupancy?\n",
        "\n",
        "Q4. What levels of CO2 is suitable and not suitable for room occupancy?\n",
        "\n",
        "Q5. Does motion sensors contribute to increase or decrease of in room occupancy"
      ],
      "metadata": {
        "id": "IXlk0_k0nsG7"
      }
    },
    {
      "cell_type": "code",
      "source": [
        "import pandas as pd\n",
        "\n",
        "# Load the dataset\n",
        "data = pd.read_csv('Occupancy_Estimation.csv')\n",
        "\n",
        "# Q1. Identify the max and min sound, light values liked by most customers\n",
        "most_frequent_occupancy = data['Room_Occupancy_Count'].mode()[0]\n",
        "most_frequent_data = data[data['Room_Occupancy_Count'] == most_frequent_occupancy]\n",
        "\n",
        "# Max and Min Sound and Light\n",
        "max_sound = most_frequent_data[['S1_Sound', 'S2_Sound', 'S3_Sound', 'S4_Sound']].max().max()\n",
        "min_sound = most_frequent_data[['S1_Sound', 'S2_Sound', 'S3_Sound', 'S4_Sound']].min().min()\n",
        "max_light = most_frequent_data[['S1_Light', 'S2_Light', 'S3_Light', 'S4_Light']].max().max()\n",
        "min_light = most_frequent_data[['S1_Light', 'S2_Light', 'S3_Light', 'S4_Light']].min().min()\n",
        "\n",
        "print(f\"Q1: Max Sound: {max_sound}, Min Sound: {min_sound}, Max Light: {max_light}, Min Light: {min_light}\")\n",
        "\n"
      ],
      "metadata": {
        "colab": {
          "base_uri": "https://localhost:8080/"
        },
        "id": "Z0I1op2Ks9je",
        "outputId": "f766f2e9-db29-45ad-999c-987a2fe166fe"
      },
      "execution_count": 14,
      "outputs": [
        {
          "output_type": "stream",
          "name": "stdout",
          "text": [
            "Q1: Max Sound: 3.88, Min Sound: 0.04, Max Light: 101, Min Light: 0\n"
          ]
        }
      ]
    },
    {
      "cell_type": "code",
      "source": [
        "# Q2. Identify the date and time when room occupancy was the most\n",
        "max_occupancy = data['Room_Occupancy_Count'].max()\n",
        "max_occupancy_time = data[data['Room_Occupancy_Count'] == max_occupancy][['Date', 'Time']].iloc[0]\n",
        "\n",
        "print(f\"Q2: Date: {max_occupancy_time['Date']}, Time: {max_occupancy_time['Time']}\")\n"
      ],
      "metadata": {
        "colab": {
          "base_uri": "https://localhost:8080/"
        },
        "id": "2BRBEIWktShn",
        "outputId": "85323d02-0543-4b92-96be-56eb387fd0e0"
      },
      "execution_count": 15,
      "outputs": [
        {
          "output_type": "stream",
          "name": "stdout",
          "text": [
            "Q2: Date: 2017/12/22, Time: 12:30:16\n"
          ]
        }
      ]
    },
    {
      "cell_type": "code",
      "source": [
        "# Q3. Predict the temperature most suitable for most room occupancy\n",
        "data['Average_Temperature'] = data[['S1_Temp', 'S2_Temp', 'S3_Temp', 'S4_Temp']].mean(axis=1)\n",
        "best_temp = data.groupby('Room_Occupancy_Count')['Average_Temperature'].mean().idxmax()\n",
        "\n",
        "print(f\"Q3: Most Suitable Temperature: Associated with Room Occupancy Count {best_temp}\")"
      ],
      "metadata": {
        "colab": {
          "base_uri": "https://localhost:8080/"
        },
        "id": "zxn7grtmtaT5",
        "outputId": "0d3fd65c-a03e-45d2-d6cd-76240e6cc681"
      },
      "execution_count": 16,
      "outputs": [
        {
          "output_type": "stream",
          "name": "stdout",
          "text": [
            "Q3: Most Suitable Temperature: Associated with Room Occupancy Count 3\n"
          ]
        }
      ]
    },
    {
      "cell_type": "code",
      "source": [
        "# Q4. What levels of CO2 are suitable and not suitable for room occupancy?\n",
        "avg_co2_high_occupancy = data[data['Room_Occupancy_Count'] > data['Room_Occupancy_Count'].mean()]['S5_CO2'].mean()\n",
        "avg_co2_low_occupancy = data[data['Room_Occupancy_Count'] <= data['Room_Occupancy_Count'].mean()]['S5_CO2'].mean()\n",
        "\n",
        "print(f\"Q4: Suitable CO2 Level: {avg_co2_high_occupancy:.2f}, Unsuitable CO2 Level: {avg_co2_low_occupancy:.2f}\")"
      ],
      "metadata": {
        "colab": {
          "base_uri": "https://localhost:8080/"
        },
        "id": "PtIM2pvktePs",
        "outputId": "3d3487fc-5667-492f-a155-27cd3a5a3d0d"
      },
      "execution_count": 17,
      "outputs": [
        {
          "output_type": "stream",
          "name": "stdout",
          "text": [
            "Q4: Suitable CO2 Level: 705.03, Unsuitable CO2 Level: 404.45\n"
          ]
        }
      ]
    },
    {
      "cell_type": "code",
      "source": [
        "# Q5. Does motion sensors contribute to the increase or decrease in room occupancy?\n",
        "motion_sensor_corr = data[['S6_PIR', 'S7_PIR']].mean(axis=1).corr(data['Room_Occupancy_Count'])\n",
        "\n",
        "if motion_sensor_corr > 0:\n",
        "    motion_effect = \"increase\"\n",
        "else:\n",
        "    motion_effect = \"decrease\"\n",
        "\n",
        "print(f\"Q5: Motion sensors contribute to a(n) {motion_effect} in room occupancy with a correlation of {motion_sensor_corr:.2f}\")"
      ],
      "metadata": {
        "colab": {
          "base_uri": "https://localhost:8080/"
        },
        "id": "gRWadwzJtjhR",
        "outputId": "3ae7812f-c5fe-45d0-e91d-b92c500c6613"
      },
      "execution_count": 18,
      "outputs": [
        {
          "output_type": "stream",
          "name": "stdout",
          "text": [
            "Q5: Motion sensors contribute to a(n) increase in room occupancy with a correlation of 0.75\n"
          ]
        }
      ]
    }
  ]
}