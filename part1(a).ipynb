{
  "nbformat": 4,
  "nbformat_minor": 0,
  "metadata": {
    "colab": {
      "provenance": [],
      "authorship_tag": "ABX9TyNK82PMfd8iBsI9htHuTgR4",
      "include_colab_link": true
    },
    "kernelspec": {
      "name": "python3",
      "display_name": "Python 3"
    },
    "language_info": {
      "name": "python"
    }
  },
  "cells": [
    {
      "cell_type": "markdown",
      "metadata": {
        "id": "view-in-github",
        "colab_type": "text"
      },
      "source": [
        "<a href=\"https://colab.research.google.com/github/2303A51844/AI-ML/blob/main/part1(a).ipynb\" target=\"_parent\"><img src=\"https://colab.research.google.com/assets/colab-badge.svg\" alt=\"Open In Colab\"/></a>"
      ]
    },
    {
      "cell_type": "code",
      "source": [
        "# Python3 Program to print BFS traversal\n",
        "# from a given source vertex. BFS(int s)\n",
        "# traverses vertices reachable from s.\n",
        "\n",
        "from collections import defaultdict\n",
        "\n",
        "\n",
        "# This class represents a directed graph\n",
        "# using adjacency list representation\n",
        "class Graph:\n",
        "\n",
        "    # Constructor\n",
        "    def __init__(self):\n",
        "\n",
        "        # Default dictionary to store graph\n",
        "        self.graph = defaultdict(list)\n",
        "\n",
        "    # Function to add an edge to graph\n",
        "    def addEdge(self, u, v):\n",
        "        self.graph[u].append(v)\n",
        "\n",
        "    # Function to print a BFS of graph\n",
        "    def BFS(self, s):\n",
        "\n",
        "        # Mark all the vertices as not visited\n",
        "        visited = [False] * (max(self.graph) + 1)\n",
        "\n",
        "        # Create a queue for BFS\n",
        "        queue = []\n",
        "\n",
        "        # Mark the source node as\n",
        "        # visited and enqueue it\n",
        "        queue.append(s)\n",
        "        visited[s] = True\n",
        "\n",
        "        while queue:\n",
        "\n",
        "            # Dequeue a vertex from\n",
        "            # queue and print it\n",
        "            s = queue.pop(0)\n",
        "            print(s, end=\" \")\n",
        "\n",
        "            # Get all adjacent vertices of the\n",
        "            # dequeued vertex s.\n",
        "            # If an adjacent has not been visited,\n",
        "            # then mark it visited and enqueue it\n",
        "            for i in self.graph[s]:\n",
        "                if not visited[i]:\n",
        "                    queue.append(i)\n",
        "                    visited[i] = True\n",
        "\n",
        "# Driver code\n",
        "if __name__ == '__main__':\n",
        "\n",
        "    # Create a graph given in\n",
        "    # the above diagram\n",
        "    g = Graph()\n",
        "    g.addEdge(0, 1)\n",
        "    g.addEdge(0, 2)\n",
        "    g.addEdge(1, 2)\n",
        "    g.addEdge(2, 0)\n",
        "    g.addEdge(2, 3)\n",
        "    g.addEdge(3, 3)\n",
        "\n",
        "    print(\"Following is Breadth First Traversal\"\n",
        "        \" (starting from vertex 2)\")\n",
        "    g.BFS(2)\n",
        "\n",
        "# This code is contributed by Neelam Yadav\n",
        "\n",
        "# This code is modified by Susobhan Akhuli\n"
      ],
      "metadata": {
        "id": "5nTVWgLYleSd",
        "colab": {
          "base_uri": "https://localhost:8080/"
        },
        "outputId": "6d0f5523-dad8-4937-e836-e40c5f828130"
      },
      "execution_count": 1,
      "outputs": [
        {
          "output_type": "stream",
          "name": "stdout",
          "text": [
            "Following is Breadth First Traversal (starting from vertex 2)\n",
            "2 0 3 1 "
          ]
        }
      ]
    },
    {
      "cell_type": "code",
      "source": [],
      "metadata": {
        "id": "M7uJuWqaJa6b"
      },
      "execution_count": null,
      "outputs": []
    },
    {
      "cell_type": "code",
      "source": [
        "#part 1(a)\n",
        "#printing a list\n",
        "import numpy as np\n",
        "List = [1, 2, 3, 4, 5, 6, 7, 8, 9]\n",
        "npList = np.array(List)\n",
        "n = len(npList)\n",
        "for i in range(n):\n",
        "    print(npList[i])\n",
        "#printing an array\n",
        "a = int(input(\"Enter a number: \"))\n",
        "b = np.array([1, 2, 3, 4, 5])\n",
        "b_list = b.tolist()\n",
        "b_list.append(a)\n",
        "b = np.array(b_list)\n",
        "print(b)\n",
        "#identifing the types\n",
        "A = \"Hello, world!\"\n",
        "variable = 42\n",
        "float= 3.14\n",
        "list = [1, 2, 3]\n",
        "array = np.array([1, 2, 3])\n",
        "print(\"Type of string_variable:\", type(A))\n",
        "print(\"Type of variable:\", type(variable))\n",
        "print(\"Type of float:\", type(float))\n",
        "print(\"Type of list:\", type(list))\n",
        "print(\"Type of array:\", type(array))\n",
        "a = int(input(\"Enter a number: \"))\n",
        "b = int(input(\"Enter a number: \"))\n",
        "mul_result = a * b\n",
        "print(f\"{a} * {b} = {mul_result}\")\n",
        "div_result = a / b\n",
        "print(f\"{a} / {b} = {div_result}\")\n",
        "pow_result = a ** b\n",
        "print(f\"{a} ** {b} = {pow_result}\")\n",
        "#combine text with numpy function to generate a textual output addition of two array1 and array2\n",
        "array1 = np.array([1, 2, 3, 4])\n",
        "array2 = np.array([5, 6, 7, 8])\n",
        "result = array1 + array2\n",
        "textual_output = (\n",
        "    f\"Array 1: {array1}\\n\"\n",
        "    f\"Array 2: {array2}\\n\"\n",
        "    f\"Addition of Array 1 and Array 2:\\n\"\n",
        "    f\"{result}\"\n",
        ")\n",
        "print(textual_output)\n",
        "x = 2.0\n",
        "sin_x = np.sin(x)\n",
        "print(f\"sin({x}) = {sin_x}\")\n",
        "log_x = np.log(x)\n",
        "print(f\"log({x}) = {log_x}\")\n",
        "# Base-2 logarithm of x\n",
        "log2_x = np.log2(x)\n",
        "print(f\"log2({x}) = {log2_x}\")\n",
        "# Exponential of x\n",
        "exp_x = np.exp(x)\n",
        "print(f\"exp({x}) = {exp_x}\")"
      ],
      "metadata": {
        "colab": {
          "base_uri": "https://localhost:8080/"
        },
        "id": "9jDHvBl2C79X",
        "outputId": "369db26b-feb6-4ab2-935c-007b85358a98"
      },
      "execution_count": null,
      "outputs": [
        {
          "output_type": "stream",
          "name": "stdout",
          "text": [
            "1\n",
            "2\n",
            "3\n",
            "4\n",
            "5\n",
            "6\n",
            "7\n",
            "8\n",
            "9\n"
          ]
        }
      ]
    }
  ]
}